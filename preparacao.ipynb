{
 "cells": [
  {
   "cell_type": "markdown",
   "id": "7f1994dd",
   "metadata": {},
   "source": [
    "# Avaliação Imobiliária\n",
    "## Preparação dos Dados\n",
    "### Importações"
   ]
  },
  {
   "cell_type": "code",
   "execution_count": 1,
   "id": "0d83e4ca-d847-45e9-b810-f6e6dc766408",
   "metadata": {},
   "outputs": [],
   "source": [
    "import pandas as pd"
   ]
  },
  {
   "cell_type": "markdown",
   "id": "5177e477-99e1-4ec7-8297-4e2f1efeb314",
   "metadata": {},
   "source": [
    "### Importação dos Dados\n",
    "Pode-se definir o tipo das colunas ao importar os dados.\n",
    "\n",
    "Nesse caso, os valores que não forem do tipo ocasionarão um erro.\n",
    "\n",
    "Talvez seja necessário revisar os dados com o LibreOffice antes de importar os dados."
   ]
  },
  {
   "cell_type": "code",
   "execution_count": 2,
   "id": "82230856-f6d4-486e-a155-dc1aa079cd73",
   "metadata": {},
   "outputs": [],
   "source": [
    "amostra = pd.read_csv(\"amostra_bruta.csv\", sep=';', decimal=\",\", thousands='.')"
   ]
  },
  {
   "cell_type": "markdown",
   "id": "f001dc33-a0c5-43b9-b850-ee0035ecfc90",
   "metadata": {},
   "source": [
    "### Descrição dos Dados"
   ]
  },
  {
   "cell_type": "code",
   "execution_count": 3,
   "id": "4785eec4-7428-4956-a246-476febb5c6a0",
   "metadata": {},
   "outputs": [
    {
     "name": "stdout",
     "output_type": "stream",
     "text": [
      "<class 'pandas.core.frame.DataFrame'>\n",
      "RangeIndex: 270 entries, 0 to 269\n",
      "Data columns (total 10 columns):\n",
      " #   Column     Non-Null Count  Dtype  \n",
      "---  ------     --------------  -----  \n",
      " 0   Endereco   270 non-null    object \n",
      " 1   Bairro     270 non-null    object \n",
      " 2   Area       270 non-null    object \n",
      " 3   Quartos    269 non-null    object \n",
      " 4   Banheiros  256 non-null    object \n",
      " 5   Vagas      145 non-null    float64\n",
      " 6   Preco      270 non-null    object \n",
      " 7   Cond.      251 non-null    float64\n",
      " 8   Link       270 non-null    object \n",
      " 9   Publicado  269 non-null    float64\n",
      "dtypes: float64(3), object(7)\n",
      "memory usage: 21.2+ KB\n"
     ]
    }
   ],
   "source": [
    "amostra.info()"
   ]
  },
  {
   "cell_type": "markdown",
   "id": "0812763c-47dd-4018-85d6-dff1871166a9",
   "metadata": {},
   "source": [
    "### Converter colunas para numéricas\n",
    "Os valores não numéricos serão transformados em NaN."
   ]
  },
  {
   "cell_type": "code",
   "execution_count": 4,
   "id": "36eebc03-4a84-412e-90ed-e5045e78ac51",
   "metadata": {},
   "outputs": [],
   "source": [
    "amostra['Area']      = pd.to_numeric(amostra['Area'], errors='coerce')\n",
    "amostra['Quartos']   = pd.to_numeric(amostra['Quartos'], errors='coerce')\n",
    "amostra['Banheiros'] = pd.to_numeric(amostra['Banheiros'], errors='coerce')\n",
    "amostra['Vagas']     = pd.to_numeric(amostra['Vagas'], errors='coerce')\n",
    "amostra['Preco']     = pd.to_numeric(amostra['Preco'], errors='coerce')\n",
    "amostra['Cond.']     = pd.to_numeric(amostra['Cond.'], errors='coerce')"
   ]
  },
  {
   "cell_type": "markdown",
   "id": "c529aac5-2526-48fa-b114-8ed2a16c7944",
   "metadata": {},
   "source": [
    "### Substitui NaNs na coluna 'Vagas' por 0"
   ]
  },
  {
   "cell_type": "code",
   "execution_count": 5,
   "id": "b58faacd-5e0c-421e-be8e-2773c759067e",
   "metadata": {},
   "outputs": [],
   "source": [
    "amostra['Vagas'] = amostra['Vagas'].fillna(0)"
   ]
  },
  {
   "cell_type": "markdown",
   "id": "212cfe55-d2c6-40a5-a6ea-23ea7f80ce30",
   "metadata": {},
   "source": [
    "### Adicionando coluna Unitario"
   ]
  },
  {
   "cell_type": "code",
   "execution_count": 6,
   "id": "d02de725-0cc2-42c9-9c3f-559bf609d5c1",
   "metadata": {},
   "outputs": [],
   "source": [
    "amostra['Unitario'] = amostra['Preco'] / amostra['Area']"
   ]
  },
  {
   "cell_type": "markdown",
   "id": "a821343d-ea24-460d-b53d-8886ad194c12",
   "metadata": {},
   "source": [
    "### Exibindo os Dados"
   ]
  },
  {
   "cell_type": "code",
   "execution_count": 7,
   "id": "c014d50e-29a0-4fd0-a857-3a376422d549",
   "metadata": {},
   "outputs": [
    {
     "data": {
      "text/html": [
       "<div>\n",
       "<style scoped>\n",
       "    .dataframe tbody tr th:only-of-type {\n",
       "        vertical-align: middle;\n",
       "    }\n",
       "\n",
       "    .dataframe tbody tr th {\n",
       "        vertical-align: top;\n",
       "    }\n",
       "\n",
       "    .dataframe thead th {\n",
       "        text-align: right;\n",
       "    }\n",
       "</style>\n",
       "<table border=\"1\" class=\"dataframe\">\n",
       "  <thead>\n",
       "    <tr style=\"text-align: right;\">\n",
       "      <th></th>\n",
       "      <th>Endereco</th>\n",
       "      <th>Bairro</th>\n",
       "      <th>Area</th>\n",
       "      <th>Quartos</th>\n",
       "      <th>Banheiros</th>\n",
       "      <th>Vagas</th>\n",
       "      <th>Preco</th>\n",
       "      <th>Cond.</th>\n",
       "      <th>Link</th>\n",
       "      <th>Publicado</th>\n",
       "      <th>Unitario</th>\n",
       "    </tr>\n",
       "  </thead>\n",
       "  <tbody>\n",
       "    <tr>\n",
       "      <th>0</th>\n",
       "      <td>Rua São Clemente</td>\n",
       "      <td>Botafogo, Rio de Janeiro</td>\n",
       "      <td>72.0</td>\n",
       "      <td>2.0</td>\n",
       "      <td>2.0</td>\n",
       "      <td>0.0</td>\n",
       "      <td>900000.0</td>\n",
       "      <td>930.0</td>\n",
       "      <td>https://www.imovelweb.com.br/propriedades/apar...</td>\n",
       "      <td>0.0</td>\n",
       "      <td>12500.000000</td>\n",
       "    </tr>\n",
       "    <tr>\n",
       "      <th>1</th>\n",
       "      <td>Rua Dezenove de Fevereiro,</td>\n",
       "      <td>Botafogo, Rio de Janeiro</td>\n",
       "      <td>180.0</td>\n",
       "      <td>3.0</td>\n",
       "      <td>2.0</td>\n",
       "      <td>2.0</td>\n",
       "      <td>2780000.0</td>\n",
       "      <td>3300.0</td>\n",
       "      <td>https://www.imovelweb.com.br/propriedades/cobe...</td>\n",
       "      <td>0.0</td>\n",
       "      <td>15444.444444</td>\n",
       "    </tr>\n",
       "    <tr>\n",
       "      <th>2</th>\n",
       "      <td>Rua Voluntários da Pátria</td>\n",
       "      <td>Botafogo, Rio de Janeiro</td>\n",
       "      <td>65.0</td>\n",
       "      <td>2.0</td>\n",
       "      <td>2.0</td>\n",
       "      <td>1.0</td>\n",
       "      <td>745000.0</td>\n",
       "      <td>1574.0</td>\n",
       "      <td>https://www.imovelweb.com.br/propriedades/apar...</td>\n",
       "      <td>0.0</td>\n",
       "      <td>11461.538462</td>\n",
       "    </tr>\n",
       "    <tr>\n",
       "      <th>3</th>\n",
       "      <td>Rua Voluntários da Pátria</td>\n",
       "      <td>Botafogo, Rio de Janeiro</td>\n",
       "      <td>70.0</td>\n",
       "      <td>2.0</td>\n",
       "      <td>1.0</td>\n",
       "      <td>0.0</td>\n",
       "      <td>620000.0</td>\n",
       "      <td>896.0</td>\n",
       "      <td>https://www.imovelweb.com.br/propriedades/apar...</td>\n",
       "      <td>0.0</td>\n",
       "      <td>8857.142857</td>\n",
       "    </tr>\n",
       "    <tr>\n",
       "      <th>4</th>\n",
       "      <td>Rua Marquês de Olinda,</td>\n",
       "      <td>Botafogo, Rio de Janeiro</td>\n",
       "      <td>100.0</td>\n",
       "      <td>3.0</td>\n",
       "      <td>1.0</td>\n",
       "      <td>1.0</td>\n",
       "      <td>1500000.0</td>\n",
       "      <td>1200.0</td>\n",
       "      <td>https://www.imovelweb.com.br/propriedades/vist...</td>\n",
       "      <td>0.0</td>\n",
       "      <td>15000.000000</td>\n",
       "    </tr>\n",
       "    <tr>\n",
       "      <th>5</th>\n",
       "      <td>Rua Professor Álvaro Rodrigues</td>\n",
       "      <td>Botafogo, Rio de Janeiro</td>\n",
       "      <td>138.0</td>\n",
       "      <td>3.0</td>\n",
       "      <td>2.0</td>\n",
       "      <td>2.0</td>\n",
       "      <td>2157440.0</td>\n",
       "      <td>1418.0</td>\n",
       "      <td>https://www.imovelweb.com.br/propriedades/apar...</td>\n",
       "      <td>0.0</td>\n",
       "      <td>15633.623188</td>\n",
       "    </tr>\n",
       "    <tr>\n",
       "      <th>6</th>\n",
       "      <td>Rua Professor Álvaro Rodrigues</td>\n",
       "      <td>Botafogo, Rio de Janeiro</td>\n",
       "      <td>131.0</td>\n",
       "      <td>3.0</td>\n",
       "      <td>2.0</td>\n",
       "      <td>2.0</td>\n",
       "      <td>2069360.0</td>\n",
       "      <td>1418.0</td>\n",
       "      <td>https://www.imovelweb.com.br/propriedades/apar...</td>\n",
       "      <td>0.0</td>\n",
       "      <td>15796.641221</td>\n",
       "    </tr>\n",
       "    <tr>\n",
       "      <th>7</th>\n",
       "      <td>Praia Botafogo</td>\n",
       "      <td>Botafogo, Rio de Janeiro</td>\n",
       "      <td>100.0</td>\n",
       "      <td>2.0</td>\n",
       "      <td>2.0</td>\n",
       "      <td>0.0</td>\n",
       "      <td>800000.0</td>\n",
       "      <td>1180.0</td>\n",
       "      <td>https://www.imovelweb.com.br/propriedades/apar...</td>\n",
       "      <td>0.0</td>\n",
       "      <td>8000.000000</td>\n",
       "    </tr>\n",
       "    <tr>\n",
       "      <th>8</th>\n",
       "      <td>Rua Dezenove de Fevereiro</td>\n",
       "      <td>Botafogo, Rio de Janeiro</td>\n",
       "      <td>202.0</td>\n",
       "      <td>3.0</td>\n",
       "      <td>2.0</td>\n",
       "      <td>1.0</td>\n",
       "      <td>1660000.0</td>\n",
       "      <td>1800.0</td>\n",
       "      <td>https://www.imovelweb.com.br/propriedades/apar...</td>\n",
       "      <td>0.0</td>\n",
       "      <td>8217.821782</td>\n",
       "    </tr>\n",
       "    <tr>\n",
       "      <th>9</th>\n",
       "      <td>RUA DEZENOVE DE FEVEREIRO 135</td>\n",
       "      <td>Botafogo, Rio de Janeiro</td>\n",
       "      <td>216.0</td>\n",
       "      <td>3.0</td>\n",
       "      <td>2.0</td>\n",
       "      <td>2.0</td>\n",
       "      <td>3250000.0</td>\n",
       "      <td>2350.0</td>\n",
       "      <td>https://www.imovelweb.com.br/propriedades/bota...</td>\n",
       "      <td>0.0</td>\n",
       "      <td>15046.296296</td>\n",
       "    </tr>\n",
       "  </tbody>\n",
       "</table>\n",
       "</div>"
      ],
      "text/plain": [
       "                         Endereco                    Bairro   Area  Quartos  \\\n",
       "0                Rua São Clemente  Botafogo, Rio de Janeiro   72.0      2.0   \n",
       "1      Rua Dezenove de Fevereiro,  Botafogo, Rio de Janeiro  180.0      3.0   \n",
       "2       Rua Voluntários da Pátria  Botafogo, Rio de Janeiro   65.0      2.0   \n",
       "3       Rua Voluntários da Pátria  Botafogo, Rio de Janeiro   70.0      2.0   \n",
       "4          Rua Marquês de Olinda,  Botafogo, Rio de Janeiro  100.0      3.0   \n",
       "5  Rua Professor Álvaro Rodrigues  Botafogo, Rio de Janeiro  138.0      3.0   \n",
       "6  Rua Professor Álvaro Rodrigues  Botafogo, Rio de Janeiro  131.0      3.0   \n",
       "7                  Praia Botafogo  Botafogo, Rio de Janeiro  100.0      2.0   \n",
       "8       Rua Dezenove de Fevereiro  Botafogo, Rio de Janeiro  202.0      3.0   \n",
       "9   RUA DEZENOVE DE FEVEREIRO 135  Botafogo, Rio de Janeiro  216.0      3.0   \n",
       "\n",
       "   Banheiros  Vagas      Preco   Cond.  \\\n",
       "0        2.0    0.0   900000.0   930.0   \n",
       "1        2.0    2.0  2780000.0  3300.0   \n",
       "2        2.0    1.0   745000.0  1574.0   \n",
       "3        1.0    0.0   620000.0   896.0   \n",
       "4        1.0    1.0  1500000.0  1200.0   \n",
       "5        2.0    2.0  2157440.0  1418.0   \n",
       "6        2.0    2.0  2069360.0  1418.0   \n",
       "7        2.0    0.0   800000.0  1180.0   \n",
       "8        2.0    1.0  1660000.0  1800.0   \n",
       "9        2.0    2.0  3250000.0  2350.0   \n",
       "\n",
       "                                                Link  Publicado      Unitario  \n",
       "0  https://www.imovelweb.com.br/propriedades/apar...        0.0  12500.000000  \n",
       "1  https://www.imovelweb.com.br/propriedades/cobe...        0.0  15444.444444  \n",
       "2  https://www.imovelweb.com.br/propriedades/apar...        0.0  11461.538462  \n",
       "3  https://www.imovelweb.com.br/propriedades/apar...        0.0   8857.142857  \n",
       "4  https://www.imovelweb.com.br/propriedades/vist...        0.0  15000.000000  \n",
       "5  https://www.imovelweb.com.br/propriedades/apar...        0.0  15633.623188  \n",
       "6  https://www.imovelweb.com.br/propriedades/apar...        0.0  15796.641221  \n",
       "7  https://www.imovelweb.com.br/propriedades/apar...        0.0   8000.000000  \n",
       "8  https://www.imovelweb.com.br/propriedades/apar...        0.0   8217.821782  \n",
       "9  https://www.imovelweb.com.br/propriedades/bota...        0.0  15046.296296  "
      ]
     },
     "execution_count": 7,
     "metadata": {},
     "output_type": "execute_result"
    }
   ],
   "source": [
    "amostra.head(10)"
   ]
  },
  {
   "cell_type": "markdown",
   "id": "9ed38483-3e1e-4ceb-9e9e-1fa01f8bef1e",
   "metadata": {},
   "source": [
    "### Excluindo Campos"
   ]
  },
  {
   "cell_type": "code",
   "execution_count": 8,
   "id": "037aac8d-5442-4c96-879b-5c45157d2a22",
   "metadata": {},
   "outputs": [
    {
     "name": "stdout",
     "output_type": "stream",
     "text": [
      "<class 'pandas.core.frame.DataFrame'>\n",
      "RangeIndex: 270 entries, 0 to 269\n",
      "Data columns (total 6 columns):\n",
      " #   Column     Non-Null Count  Dtype  \n",
      "---  ------     --------------  -----  \n",
      " 0   Area       269 non-null    float64\n",
      " 1   Quartos    266 non-null    float64\n",
      " 2   Banheiros  242 non-null    float64\n",
      " 3   Vagas      270 non-null    float64\n",
      " 4   Link       270 non-null    object \n",
      " 5   Unitario   269 non-null    float64\n",
      "dtypes: float64(5), object(1)\n",
      "memory usage: 12.8+ KB\n"
     ]
    }
   ],
   "source": [
    "amostra = amostra.drop(['Endereco'], axis=1)\n",
    "amostra = amostra.drop(['Bairro'], axis=1)\n",
    "amostra = amostra.drop(['Preco'], axis=1)\n",
    "amostra = amostra.drop(['Cond.'], axis=1)\n",
    "amostra = amostra.drop(['Publicado'], axis=1)\n",
    "amostra.info()"
   ]
  },
  {
   "cell_type": "markdown",
   "id": "f93b603e-38fd-41ad-814c-5e8b650703bf",
   "metadata": {},
   "source": [
    "### Verificando Dados com Valores Ausentes"
   ]
  },
  {
   "cell_type": "code",
   "execution_count": 9,
   "id": "98d285ba-6c34-4a66-bb30-7bb1a006edf5",
   "metadata": {},
   "outputs": [
    {
     "data": {
      "text/plain": [
       "Area          1\n",
       "Quartos       4\n",
       "Banheiros    28\n",
       "Vagas         0\n",
       "Link          0\n",
       "Unitario      1\n",
       "dtype: int64"
      ]
     },
     "execution_count": 9,
     "metadata": {},
     "output_type": "execute_result"
    }
   ],
   "source": [
    "amostra.isnull().sum()"
   ]
  },
  {
   "cell_type": "markdown",
   "id": "df0e66de-f9b3-494e-b383-3cde350b0404",
   "metadata": {},
   "source": [
    "### Excluindo Dados com Valores Ausentes"
   ]
  },
  {
   "cell_type": "code",
   "execution_count": 10,
   "id": "0af389ae-10a0-4f1a-9377-86f8f4adb68f",
   "metadata": {},
   "outputs": [
    {
     "name": "stdout",
     "output_type": "stream",
     "text": [
      "<class 'pandas.core.frame.DataFrame'>\n",
      "RangeIndex: 242 entries, 0 to 241\n",
      "Data columns (total 6 columns):\n",
      " #   Column     Non-Null Count  Dtype  \n",
      "---  ------     --------------  -----  \n",
      " 0   Area       242 non-null    float64\n",
      " 1   Quartos    242 non-null    float64\n",
      " 2   Banheiros  242 non-null    float64\n",
      " 3   Vagas      242 non-null    float64\n",
      " 4   Link       242 non-null    object \n",
      " 5   Unitario   242 non-null    float64\n",
      "dtypes: float64(5), object(1)\n",
      "memory usage: 11.5+ KB\n"
     ]
    }
   ],
   "source": [
    "amostra = amostra.dropna()\n",
    "amostra = amostra.reset_index(drop=True)\n",
    "amostra.info()"
   ]
  },
  {
   "cell_type": "markdown",
   "id": "d52518e3-c4b6-4049-b47b-b43ca9d4a8ef",
   "metadata": {},
   "source": [
    "### Exclui Dados Repetidos"
   ]
  },
  {
   "cell_type": "code",
   "execution_count": 11,
   "id": "d7ee987e-5606-4454-941b-ee7c622c129a",
   "metadata": {},
   "outputs": [
    {
     "name": "stdout",
     "output_type": "stream",
     "text": [
      "<class 'pandas.core.frame.DataFrame'>\n",
      "Index: 241 entries, 0 to 241\n",
      "Data columns (total 5 columns):\n",
      " #   Column     Non-Null Count  Dtype  \n",
      "---  ------     --------------  -----  \n",
      " 0   Area       241 non-null    float64\n",
      " 1   Quartos    241 non-null    float64\n",
      " 2   Banheiros  241 non-null    float64\n",
      " 3   Vagas      241 non-null    float64\n",
      " 4   Unitario   241 non-null    float64\n",
      "dtypes: float64(5)\n",
      "memory usage: 11.3 KB\n"
     ]
    }
   ],
   "source": [
    "amostra = amostra.drop_duplicates()\n",
    "amostra = amostra.drop(['Link'], axis=1)\n",
    "amostra.info()"
   ]
  },
  {
   "cell_type": "markdown",
   "id": "85658420-f8cf-47d9-9c41-e98a7ed27488",
   "metadata": {},
   "source": [
    "### Exclui Dados Discrepantes"
   ]
  },
  {
   "cell_type": "code",
   "execution_count": 12,
   "id": "a7fb95ca-8bac-4f4a-a203-5d7732432e2d",
   "metadata": {},
   "outputs": [
    {
     "data": {
      "text/html": [
       "<div>\n",
       "<style scoped>\n",
       "    .dataframe tbody tr th:only-of-type {\n",
       "        vertical-align: middle;\n",
       "    }\n",
       "\n",
       "    .dataframe tbody tr th {\n",
       "        vertical-align: top;\n",
       "    }\n",
       "\n",
       "    .dataframe thead th {\n",
       "        text-align: right;\n",
       "    }\n",
       "</style>\n",
       "<table border=\"1\" class=\"dataframe\">\n",
       "  <thead>\n",
       "    <tr style=\"text-align: right;\">\n",
       "      <th></th>\n",
       "      <th>Area</th>\n",
       "      <th>Quartos</th>\n",
       "      <th>Banheiros</th>\n",
       "      <th>Vagas</th>\n",
       "      <th>Unitario</th>\n",
       "    </tr>\n",
       "  </thead>\n",
       "  <tbody>\n",
       "    <tr>\n",
       "      <th>count</th>\n",
       "      <td>240.000000</td>\n",
       "      <td>240.000000</td>\n",
       "      <td>240.000000</td>\n",
       "      <td>240.000000</td>\n",
       "      <td>240.000000</td>\n",
       "    </tr>\n",
       "    <tr>\n",
       "      <th>mean</th>\n",
       "      <td>98.783333</td>\n",
       "      <td>2.341667</td>\n",
       "      <td>1.933333</td>\n",
       "      <td>0.800000</td>\n",
       "      <td>12243.648557</td>\n",
       "    </tr>\n",
       "    <tr>\n",
       "      <th>std</th>\n",
       "      <td>55.611275</td>\n",
       "      <td>0.891577</td>\n",
       "      <td>0.855534</td>\n",
       "      <td>0.793277</td>\n",
       "      <td>3550.854847</td>\n",
       "    </tr>\n",
       "    <tr>\n",
       "      <th>min</th>\n",
       "      <td>18.000000</td>\n",
       "      <td>1.000000</td>\n",
       "      <td>1.000000</td>\n",
       "      <td>0.000000</td>\n",
       "      <td>2400.000000</td>\n",
       "    </tr>\n",
       "    <tr>\n",
       "      <th>25%</th>\n",
       "      <td>64.500000</td>\n",
       "      <td>2.000000</td>\n",
       "      <td>1.000000</td>\n",
       "      <td>0.000000</td>\n",
       "      <td>9708.044383</td>\n",
       "    </tr>\n",
       "    <tr>\n",
       "      <th>50%</th>\n",
       "      <td>90.000000</td>\n",
       "      <td>2.000000</td>\n",
       "      <td>2.000000</td>\n",
       "      <td>1.000000</td>\n",
       "      <td>11875.000000</td>\n",
       "    </tr>\n",
       "    <tr>\n",
       "      <th>75%</th>\n",
       "      <td>123.000000</td>\n",
       "      <td>3.000000</td>\n",
       "      <td>2.000000</td>\n",
       "      <td>1.000000</td>\n",
       "      <td>14968.750000</td>\n",
       "    </tr>\n",
       "    <tr>\n",
       "      <th>max</th>\n",
       "      <td>360.000000</td>\n",
       "      <td>4.000000</td>\n",
       "      <td>5.000000</td>\n",
       "      <td>4.000000</td>\n",
       "      <td>25974.025974</td>\n",
       "    </tr>\n",
       "  </tbody>\n",
       "</table>\n",
       "</div>"
      ],
      "text/plain": [
       "             Area     Quartos   Banheiros       Vagas      Unitario\n",
       "count  240.000000  240.000000  240.000000  240.000000    240.000000\n",
       "mean    98.783333    2.341667    1.933333    0.800000  12243.648557\n",
       "std     55.611275    0.891577    0.855534    0.793277   3550.854847\n",
       "min     18.000000    1.000000    1.000000    0.000000   2400.000000\n",
       "25%     64.500000    2.000000    1.000000    0.000000   9708.044383\n",
       "50%     90.000000    2.000000    2.000000    1.000000  11875.000000\n",
       "75%    123.000000    3.000000    2.000000    1.000000  14968.750000\n",
       "max    360.000000    4.000000    5.000000    4.000000  25974.025974"
      ]
     },
     "execution_count": 12,
     "metadata": {},
     "output_type": "execute_result"
    }
   ],
   "source": [
    "#amostra = amostra.drop(3359)\n",
    "#amostra = amostra[amostra['Área'] >= 15]\n",
    "#amostra = amostra[amostra['Área'] <= 500]\n",
    "#amostra = amostra[amostra['Quartos'] == 3]\n",
    "amostra = amostra[amostra['Banheiros'] >= 0]\n",
    "#amostra = amostra[amostra['Vagas'] == 0]\n",
    "#amostra = amostra[amostra['Unitário'] >= 1000]\n",
    "#amostra = amostra[amostra['Unitário'] < 100000]\n",
    "amostra = amostra.reset_index(drop=True)\n",
    "amostra.describe()"
   ]
  },
  {
   "cell_type": "markdown",
   "id": "f690e4be-6be3-40d6-a33c-ffeffd4d074b",
   "metadata": {},
   "source": [
    "### Salva Amostra Inicial"
   ]
  },
  {
   "cell_type": "code",
   "execution_count": 14,
   "id": "6dd11176-862d-4749-97d5-f5ddff0e54ad",
   "metadata": {},
   "outputs": [],
   "source": [
    "amostra.to_csv('amostra.csv', sep=';', decimal=\",\", index=False)"
   ]
  }
 ],
 "metadata": {
  "kernelspec": {
   "display_name": "Python 3 (ipykernel)",
   "language": "python",
   "name": "python3"
  },
  "language_info": {
   "codemirror_mode": {
    "name": "ipython",
    "version": 3
   },
   "file_extension": ".py",
   "mimetype": "text/x-python",
   "name": "python",
   "nbconvert_exporter": "python",
   "pygments_lexer": "ipython3",
   "version": "3.12.3"
  }
 },
 "nbformat": 4,
 "nbformat_minor": 5
}
